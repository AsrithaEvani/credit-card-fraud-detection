{
  "nbformat": 4,
  "nbformat_minor": 0,
  "metadata": {
    "colab": {
      "provenance": []
    },
    "kernelspec": {
      "name": "python3",
      "display_name": "Python 3"
    },
    "language_info": {
      "name": "python"
    }
  },
  "cells": [
    {
      "cell_type": "code",
      "source": [
        "import pandas as pd\n",
        "from sklearn.model_selection import train_test_split\n",
        "from sklearn.linear_model import LogisticRegression\n",
        "from sklearn.tree import DecisionTreeClassifier\n",
        "from sklearn.ensemble import RandomForestClassifier\n",
        "from sklearn.metrics import classification_report, confusion_matrix,accuracy_score\n",
        "from sklearn.preprocessing import StandardScaler\n",
        "import numpy as np\n"
      ],
      "metadata": {
        "id": "9fW4SHtCjDcm"
      },
      "execution_count": 2,
      "outputs": []
    },
    {
      "cell_type": "code",
      "source": [
        "# --- 1. Dataset Generation (Simplified Simulation) ---\n",
        "# For a real-world scenario, you'd use a dataset like the one from Kaggle:\n",
        "# https://www.kaggle.com/mlg-ulb/creditcardfraud\n",
        "# or generate your own with more realistic features.\n",
        "# Here, we generate a highly simplified synthetic dataset.\n",
        "\n",
        "np.random.seed(42)  # For reproducibility\n",
        "\n",
        "n_samples = 10000\n",
        "n_fraud = 100  # 1% fraud rate\n",
        "\n",
        "# Generate legitimate transactions\n",
        "data_legit = pd.DataFrame({\n",
        "    'amount': np.random.normal(100, 50, n_samples),\n",
        "    'feature1': np.random.rand(n_samples),\n",
        "    'feature2': np.random.rand(n_samples),\n",
        "    'feature3': np.random.rand(n_samples),\n",
        "    'class': 0  # 0 for legitimate\n",
        "})\n",
        "\n",
        "# Generate fraudulent transactions (with different characteristics)\n",
        "data_fraud = pd.DataFrame({\n",
        "    'amount': np.random.normal(500, 200, n_fraud), #higher amounts\n",
        "    'feature1': np.random.rand(n_fraud) + 0.5, #different feature distributions\n",
        "    'feature2': np.random.rand(n_fraud) + 0.5,\n",
        "    'feature3': np.random.rand(n_fraud) + 0.5,\n",
        "    'class': 1  # 1 for fraud\n",
        "})\n",
        "\n",
        "# Combine and shuffle the data\n",
        "data = pd.concat([data_legit, data_fraud], ignore_index=True)\n",
        "data = data.sample(frac=1, random_state=42).reset_index(drop=True)\n",
        "\n",
        "# --- 2. Data Preprocessing ---\n",
        "\n",
        "X = data.drop('class', axis=1)\n",
        "y = data['class']\n",
        "\n",
        "# Scale numerical features\n",
        "scaler = StandardScaler()\n",
        "X = scaler.fit_transform(X)\n",
        "\n",
        "X_train, X_test, y_train, y_test = train_test_split(X, y, test_size=0.2, random_state=42)"
      ],
      "metadata": {
        "id": "8SK0xBOyjItd"
      },
      "execution_count": 3,
      "outputs": []
    },
    {
      "cell_type": "code",
      "source": [
        "# Generate fraudulent transactions (with different characteristics)\n",
        "data_fraud = pd.DataFrame({\n",
        "    'amount': np.random.normal(500, 200, n_fraud), #higher amounts\n",
        "    'feature1': np.random.rand(n_fraud) + 0.5, #different feature distributions\n",
        "    'feature2': np.random.rand(n_fraud) + 0.5,\n",
        "    'feature3': np.random.rand(n_fraud) + 0.5,\n",
        "    'class': 1  # 1 for fraud\n",
        "})"
      ],
      "metadata": {
        "id": "sI5ovq58klBO"
      },
      "execution_count": 4,
      "outputs": []
    },
    {
      "cell_type": "code",
      "source": [
        "# Combine and shuffle the data\n",
        "data = pd.concat([data_legit, data_fraud], ignore_index=True)\n",
        "data = data.sample(frac=1, random_state=42).reset_index(drop=True)\n"
      ],
      "metadata": {
        "id": "nrABe91nkxOO"
      },
      "execution_count": 5,
      "outputs": []
    },
    {
      "cell_type": "code",
      "source": [
        "# --- 2. Data Preprocessing ---\n",
        "\n",
        "X = data.drop('class', axis=1)\n",
        "y = data['class']\n",
        "\n",
        "# Scale numerical features\n",
        "scaler = StandardScaler()\n",
        "X = scaler.fit_transform(X)\n",
        "\n",
        "X_train, X_test, y_train, y_test = train_test_split(X, y, test_size=0.2, random_state=42)"
      ],
      "metadata": {
        "id": "czMQlk8Ak3J9"
      },
      "execution_count": 6,
      "outputs": []
    },
    {
      "cell_type": "code",
      "source": [
        "# Logistic Regression\n",
        "logreg = LogisticRegression(random_state=42, solver='liblinear') #liblinear handles small datasets well\n",
        "logreg.fit(X_train, y_train)\n",
        "y_pred_logreg = logreg.predict(X_test)\n",
        "\n",
        "print(\"Logistic Regression:\")\n",
        "print(confusion_matrix(y_test, y_pred_logreg))\n",
        "print(classification_report(y_test, y_pred_logreg))\n",
        "\n",
        "# Decision Tree\n",
        "dt = DecisionTreeClassifier(random_state=42)\n",
        "dt.fit(X_train, y_train)\n",
        "y_pred_dt = dt.predict(X_test)\n",
        "\n",
        "print(\"\\nDecision Tree:\")\n",
        "print(confusion_matrix(y_test, y_pred_dt))\n",
        "print(classification_report(y_test, y_pred_dt))\n",
        "\n",
        "# Random Forest\n",
        "rf = RandomForestClassifier(random_state=42)\n",
        "rf.fit(X_train, y_train)\n",
        "y_pred_rf = rf.predict(X_test)\n",
        "\n",
        "print(\"\\nRandom Forest:\")\n",
        "print(confusion_matrix(y_test, y_pred_rf))\n",
        "print(classification_report(y_test, y_pred_rf))\n"
      ],
      "metadata": {
        "colab": {
          "base_uri": "https://localhost:8080/"
        },
        "id": "DS4OtH0ck87w",
        "outputId": "b14411e2-4b76-420f-bcba-9ffdc9134400"
      },
      "execution_count": 7,
      "outputs": [
        {
          "output_type": "stream",
          "name": "stdout",
          "text": [
            "Logistic Regression:\n",
            "[[2001    0]\n",
            " [   3   16]]\n",
            "              precision    recall  f1-score   support\n",
            "\n",
            "           0       1.00      1.00      1.00      2001\n",
            "           1       1.00      0.84      0.91        19\n",
            "\n",
            "    accuracy                           1.00      2020\n",
            "   macro avg       1.00      0.92      0.96      2020\n",
            "weighted avg       1.00      1.00      1.00      2020\n",
            "\n",
            "\n",
            "Decision Tree:\n",
            "[[2001    0]\n",
            " [   1   18]]\n",
            "              precision    recall  f1-score   support\n",
            "\n",
            "           0       1.00      1.00      1.00      2001\n",
            "           1       1.00      0.95      0.97        19\n",
            "\n",
            "    accuracy                           1.00      2020\n",
            "   macro avg       1.00      0.97      0.99      2020\n",
            "weighted avg       1.00      1.00      1.00      2020\n",
            "\n",
            "\n",
            "Random Forest:\n",
            "[[2001    0]\n",
            " [   0   19]]\n",
            "              precision    recall  f1-score   support\n",
            "\n",
            "           0       1.00      1.00      1.00      2001\n",
            "           1       1.00      1.00      1.00        19\n",
            "\n",
            "    accuracy                           1.00      2020\n",
            "   macro avg       1.00      1.00      1.00      2020\n",
            "weighted avg       1.00      1.00      1.00      2020\n",
            "\n"
          ]
        }
      ]
    },
    {
      "cell_type": "code",
      "source": [
        "# --- 4. Handling Imbalanced Data (Important for Fraud Detection) ---\n",
        "# Because fraud is rare, the dataset is highly imbalanced. Techniques like\n",
        "# oversampling (SMOTE), undersampling, or using algorithms designed for\n",
        "# imbalanced data (e.g., class_weight='balanced' in some scikit-learn models)\n",
        "# are crucial in real-world scenarios.\n",
        "\n",
        "from imblearn.over_sampling import SMOTE\n",
        "\n",
        "smote = SMOTE(random_state=42)\n",
        "X_resampled, y_resampled = smote.fit_resample(X_train, y_train)\n",
        "\n",
        "rf_balanced = RandomForestClassifier(random_state=42)\n",
        "rf_balanced.fit(X_resampled, y_resampled)\n",
        "y_pred_rf_balanced = rf_balanced.predict(X_test)\n",
        "\n",
        "print(\"\\nRandom Forest (SMOTE Resampled):\")\n",
        "print(confusion_matrix(y_test, y_pred_rf_balanced))\n",
        "print(classification_report(y_test, y_pred_rf_balanced))\n",
        "accuracy=accuracy_score(y_test, y_pred_rf_balanced)\n",
        "print(\"Accuracy:\",accuracy)"
      ],
      "metadata": {
        "colab": {
          "base_uri": "https://localhost:8080/"
        },
        "id": "44iPbemUlNkM",
        "outputId": "a2078966-582b-4086-9a93-f5a1e4fac9d9"
      },
      "execution_count": 8,
      "outputs": [
        {
          "output_type": "stream",
          "name": "stdout",
          "text": [
            "\n",
            "Random Forest (SMOTE Resampled):\n",
            "[[2000    1]\n",
            " [   1   18]]\n",
            "              precision    recall  f1-score   support\n",
            "\n",
            "           0       1.00      1.00      1.00      2001\n",
            "           1       0.95      0.95      0.95        19\n",
            "\n",
            "    accuracy                           1.00      2020\n",
            "   macro avg       0.97      0.97      0.97      2020\n",
            "weighted avg       1.00      1.00      1.00      2020\n",
            "\n",
            "Accuracy: 0.999009900990099\n"
          ]
        }
      ]
    },
    {
      "cell_type": "code",
      "source": [
        "# --- 5. Saving the Dataset ---\n",
        "data.to_csv(\"/content/credit_card_data.csv\", index=False) #save the generated dataset."
      ],
      "metadata": {
        "id": "ubcn3kotlVZD"
      },
      "execution_count": 9,
      "outputs": []
    }
  ]
}